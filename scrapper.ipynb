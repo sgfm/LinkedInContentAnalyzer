{
 "cells": [
  {
   "cell_type": "code",
   "execution_count": 1,
   "metadata": {},
   "outputs": [],
   "source": [
    "import pandas as pd\n",
    "import time\n",
    "import numpy as np"
   ]
  },
  {
   "cell_type": "code",
   "execution_count": 2,
   "metadata": {},
   "outputs": [],
   "source": [
    "from selenium import webdriver\n",
    "from selenium.webdriver.firefox.options import Options"
   ]
  },
  {
   "cell_type": "code",
   "execution_count": 3,
   "metadata": {},
   "outputs": [],
   "source": [
    "def headless_Firefox():\n",
    "    options = Options()\n",
    "    options.headless = True\n",
    "    driver = webdriver.Firefox(options = options)\n",
    "    return driver\n",
    "def LinkedIn_login(driver):\n",
    "    driver.get(\"https://www.linkedin.com/login?fromSignIn=true&trk=guest_homepage-basic_nav-header-signin\")\n",
    "    time.sleep(3)\n",
    "    email = driver.find_element_by_id('username')\n",
    "    email.click()\n",
    "    email.send_keys('nachoeddie@gmail.com')\n",
    "    password = driver.find_element_by_id('password')\n",
    "    password.click()\n",
    "    password.send_keys('GotHeOnfOrsi')\n",
    "    driver.find_element_by_xpath(\"//button[@type = 'submit']\").click()"
   ]
  },
  {
   "cell_type": "code",
   "execution_count": 4,
   "metadata": {},
   "outputs": [],
   "source": [
    "def LinkedIn_search(driver, keys):\n",
    "    search_bar = driver.find_element_by_class_name('search-global-typeahead__input')\n",
    "    search_bar.click()\n",
    "    search_bar.send_keys(f'{keys}')\n",
    "    search_bar.send_keys(u'\\ue007')\n",
    "    time.sleep(7)\n",
    "    driver.find_element_by_xpath(\"//button[@aria-label='View only Content results']\").click()"
   ]
  },
  {
   "cell_type": "code",
   "execution_count": 5,
   "metadata": {},
   "outputs": [],
   "source": [
    "from numpy.random import randint\n",
    "def scroll_scrape(num_posts, scroll_time = 1):\n",
    "    if num_posts % 6 != 0:\n",
    "        raise ValueError('Number of posts wanted to scrape is not divisible by 6.')\n",
    "    last_height = driver.execute_script(\"return document.body.scrollHeight\")\n",
    "    num_scrapped = 0\n",
    "    scroll_num = 0 \n",
    "    non_loads = 0\n",
    "    dist = 50\n",
    "    while num_scrapped < num_posts:\n",
    "#         scroll_time = randint(2, 6)\n",
    "        driver.execute_script(\"window.scrollTo(0, document.body.scrollHeight);\")\n",
    "        time.sleep(scroll_time)\n",
    "        new_height=driver.execute_script(\"return document.body.scrollHeight\")\n",
    "        if new_height == last_height:\n",
    "            driver.execute_script(f\"window.scrollTo(0, document.body.scrollHeight - {dist})\")\n",
    "            dist += 50\n",
    "            non_loads += 1\n",
    "            if non_loads > 15:\n",
    "                posts = driver.find_elements_by_xpath(\"//li[@class='search-content__result search-entity ember-view']\")\n",
    "                break\n",
    "        else:\n",
    "            last_height = new_height\n",
    "            non_loads = 0\n",
    "            scroll_num += 1\n",
    "            dist = 50\n",
    "            if scroll_num >= num_posts / 6:\n",
    "                posts = driver.find_elements_by_xpath(\"//li[@class='search-content__result search-entity ember-view']\")\n",
    "                num_scrapped = len(posts)\n",
    "    return posts\n"
   ]
  },
  {
   "cell_type": "code",
   "execution_count": null,
   "metadata": {},
   "outputs": [],
   "source": [
    "\n"
   ]
  },
  {
   "cell_type": "code",
   "execution_count": null,
   "metadata": {},
   "outputs": [],
   "source": []
  },
  {
   "cell_type": "code",
   "execution_count": 6,
   "metadata": {},
   "outputs": [],
   "source": [
    "import re\n",
    "def only_numeric(str):\n",
    "    return float(re.sub(\"[^0-9]\", \"\", str))\n"
   ]
  },
  {
   "cell_type": "code",
   "execution_count": 7,
   "metadata": {},
   "outputs": [],
   "source": [
    "def see_more(post):\n",
    "    try:\n",
    "        see_more = post.find_element_by_xpath(\".//button[@class='feed-shared-inline-show-more-text__see-more-less-toggle see-more t-14 t-black--light t-normal hoverable-link-text']\")\n",
    "    except:\n",
    "        pass\n",
    "    else:\n",
    "        see_more.click()"
   ]
  },
  {
   "cell_type": "code",
   "execution_count": 8,
   "metadata": {},
   "outputs": [],
   "source": [
    "def name_scrape(post):\n",
    "    try:\n",
    "        name = post.find_element_by_xpath(\".//span[@class='feed-shared-actor__name t-14 t-black t-bold hoverable-link-text']\")\n",
    "    except:\n",
    "        pass\n",
    "    else:\n",
    "        return name.text.replace('\\n', '')"
   ]
  },
  {
   "cell_type": "code",
   "execution_count": 9,
   "metadata": {},
   "outputs": [],
   "source": [
    "def subdes_scrape(post):\n",
    "    try:\n",
    "        subdes = post.find_element_by_xpath(\".//div[@class='truncate feed-shared-text-view white-space-pre-wrap break-words ember-view']\")\n",
    "    except:\n",
    "        pass\n",
    "    else:\n",
    "        return subdes.text.replace('\\n', '')"
   ]
  },
  {
   "cell_type": "code",
   "execution_count": 10,
   "metadata": {},
   "outputs": [],
   "source": [
    "def time_scrape(post):\n",
    "    try:\n",
    "        scrapped = post.find_elements_by_xpath(\".//div[@class = 'feed-shared-text-view white-space-pre-wrap break-words ember-view']\")\n",
    "        time = scrapped[-1].text\n",
    "    except:\n",
    "        pass\n",
    "    else:\n",
    "        for idx, char in enumerate(time):\n",
    "            if char.isalnum() == False:\n",
    "                return time[:idx]"
   ]
  },
  {
   "cell_type": "code",
   "execution_count": 11,
   "metadata": {},
   "outputs": [],
   "source": [
    "def corpus_scrape(post):\n",
    "    try:\n",
    "        corpus = post.find_element_by_xpath(\".//div[@class='feed-shared-update-v2__description-wrapper ember-view']\")\n",
    "    except:\n",
    "        pass\n",
    "    else:\n",
    "        return corpus.text.replace('\\n', ' ')"
   ]
  },
  {
   "cell_type": "code",
   "execution_count": 12,
   "metadata": {},
   "outputs": [],
   "source": [
    "def reaction_scrape(post):\n",
    "    try:\n",
    "        reaction = post.find_element_by_xpath(\".//span[@class='v-align-middle social-details-social-counts__reactions-count']\")\n",
    "    except:\n",
    "        return 0.0\n",
    "    else:\n",
    "        return only_numeric(reaction.text)"
   ]
  },
  {
   "cell_type": "code",
   "execution_count": 13,
   "metadata": {},
   "outputs": [],
   "source": [
    "def comment_scrape(post):\n",
    "    try:\n",
    "        comments = post.find_element_by_xpath(\".//li[@class='social-details-social-counts__item social-details-social-counts__comments']\")\n",
    "    except:\n",
    "        return 0.0\n",
    "    else:\n",
    "        return only_numeric(comments.text)"
   ]
  },
  {
   "cell_type": "code",
   "execution_count": 14,
   "metadata": {},
   "outputs": [],
   "source": [
    "def art_scrape(post):\n",
    "    try:\n",
    "        art_title = post.find_element_by_xpath(\".//h2[@class='feed-shared-article__title t-14 t-bold t-black']\")\n",
    "        art_source = post.find_element_by_xpath(\".//h3[@class='feed-shared-article__subtitle t-12 t-normal t-black--light']\")\n",
    "    except:\n",
    "        pass\n",
    "    else:\n",
    "        return (art_title.text.replace('\\n', ''), art_source.text.replace('\\n', ''))"
   ]
  },
  {
   "cell_type": "code",
   "execution_count": 15,
   "metadata": {},
   "outputs": [],
   "source": [
    "def img_scrape(post):\n",
    "    try:\n",
    "        imgs = post.find_elements_by_xpath(\".//div[@class='feed-shared-image__container']\")\n",
    "    except:\n",
    "        pass\n",
    "    else:\n",
    "        return len(imgs)"
   ]
  },
  {
   "cell_type": "code",
   "execution_count": 16,
   "metadata": {},
   "outputs": [],
   "source": [
    "def video_scrape(post):\n",
    "    try:\n",
    "        post.find_element_by_xpath(\".//div[@class='feed-shared-linkedin-video__container ']\")\n",
    "        views = post.find_element_by_xpath(\".//li[@class='social-details-social-counts__item']\")\n",
    "    except:\n",
    "        pass\n",
    "    else:\n",
    "        return (1, only_numeric(views.text))"
   ]
  },
  {
   "cell_type": "code",
   "execution_count": 17,
   "metadata": {},
   "outputs": [],
   "source": [
    "def array_post(post):\n",
    "    see_more(post)\n",
    "    a = [None] * 11\n",
    "    arr = np.asarray(a)\n",
    "    name = name_scrape(post)\n",
    "    subdes = subdes_scrape(post)\n",
    "    time = time_scrape(post)\n",
    "    corp = corpus_scrape(post)\n",
    "    react = reaction_scrape(post)\n",
    "    com = comment_scrape(post)\n",
    "    art = art_scrape(post)\n",
    "    img = img_scrape(post)\n",
    "    vid = video_scrape(post)\n",
    "    if name != None:\n",
    "        arr[0] = name\n",
    "    if subdes != None:\n",
    "        arr[1] = subdes\n",
    "    arr[2] = time\n",
    "    if corp != None:\n",
    "        arr[3] = corp\n",
    "    arr[4] = react\n",
    "    arr[5] = com\n",
    "    if art != None:\n",
    "        arr[6] = art[0]\n",
    "        arr[7] = art[1]\n",
    "    if img != None:\n",
    "        arr[8] = img\n",
    "    if vid != None:\n",
    "        arr[9] = vid[0]\n",
    "        arr[10] = vid[1]\n",
    "    return arr"
   ]
  },
  {
   "cell_type": "code",
   "execution_count": 20,
   "metadata": {},
   "outputs": [],
   "source": [
    "def scrape_posts(posts):\n",
    "    mat = np.array([])\n",
    "    for post in posts:\n",
    "        arr = array_post(post)\n",
    "        mat = np.append(mat, arr)\n",
    "    rmat = mat.reshape(-1,11)\n",
    "    cols = np.array(['name', 'subdes', 'time_dis', 'corpus', 'reaction', 'comments', 'art_title', 'art_source', 'img', 'video', 'views'])\n",
    "    df = pd.DataFrame(rmat, columns = cols)\n",
    "    return df\n"
   ]
  },
  {
   "cell_type": "code",
   "execution_count": null,
   "metadata": {},
   "outputs": [],
   "source": []
  },
  {
   "cell_type": "code",
   "execution_count": null,
   "metadata": {},
   "outputs": [],
   "source": []
  },
  {
   "cell_type": "code",
   "execution_count": 21,
   "metadata": {},
   "outputs": [],
   "source": [
    "import langdetect\n",
    "#ISO 639-1 codes\n",
    "def langfind(x):\n",
    "    try:\n",
    "        return str(langdetect.detect_langs(x)[0])[:2]\n",
    "    except:\n",
    "        return np.nan\n",
    "# df['language'] = df['corpus'][df['corpus'].apply(lambda x: x != None)].apply(langfind)\n"
   ]
  },
  {
   "cell_type": "code",
   "execution_count": 22,
   "metadata": {},
   "outputs": [],
   "source": [
    "def add_language(df, corpus_column):\n",
    "    df['language'] = df[f'{corpus_column}'][df[f'{corpus_column}'].apply(lambda x: x != None)].apply(langfind)\n"
   ]
  },
  {
   "cell_type": "code",
   "execution_count": null,
   "metadata": {},
   "outputs": [],
   "source": []
  },
  {
   "cell_type": "code",
   "execution_count": null,
   "metadata": {},
   "outputs": [],
   "source": []
  },
  {
   "cell_type": "code",
   "execution_count": 23,
   "metadata": {},
   "outputs": [],
   "source": [
    "from vaderSentiment.vaderSentiment import SentimentIntensityAnalyzer\n",
    "# analyser = SentimentIntensityAnalyzer()\n",
    "# corpus_sent = df['corpus'][df['corpus'].apply(lambda x: x != None)].apply(lambda x: analyser.polarity_scores(x))\n",
    "# df['neg'] = corpus_sent.apply(lambda x: x['neg'])\n",
    "# df['neu'] = corpus_sent.apply(lambda x: x['neu'])\n",
    "# df['pos'] = corpus_sent.apply(lambda x: x['pos'])\n",
    "# df['compound'] = corpus_sent.apply(lambda x: x['compound'])\n"
   ]
  },
  {
   "cell_type": "code",
   "execution_count": 24,
   "metadata": {},
   "outputs": [],
   "source": [
    "def add_sentiment(df, corpus_column):\n",
    "    analyser = SentimentIntensityAnalyzer()\n",
    "    corpus_sent = df[f'{corpus_column}'][df[f'{corpus_column}'].apply(lambda x: x != None)].apply(lambda x: analyser.polarity_scores(x))\n",
    "    df['neg'] = corpus_sent.apply(lambda x: x['neg'])\n",
    "    df['neu'] = corpus_sent.apply(lambda x: x['neu'])\n",
    "    df['pos'] = corpus_sent.apply(lambda x: x['pos'])\n",
    "    df['compound'] = corpus_sent.apply(lambda x: x['compound'])\n"
   ]
  },
  {
   "cell_type": "code",
   "execution_count": 25,
   "metadata": {},
   "outputs": [],
   "source": [
    "#Should convert to OOP\n",
    "driver = headless_Firefox()\n",
    "LinkedIn_login(driver)\n",
    "time.sleep(7)\n",
    "\n",
    "LinkedIn_search(driver, 'Technology')\n",
    "time.sleep(7)\n",
    "posts = scroll_scrape(num_posts = 30)\n",
    "df = scrape_posts(posts)\n",
    "add_language(df, 'corpus')\n",
    "add_sentiment(df, 'corpus')"
   ]
  },
  {
   "cell_type": "code",
   "execution_count": 27,
   "metadata": {},
   "outputs": [],
   "source": [
    "indu = pd.read_csv('industries.csv')"
   ]
  },
  {
   "cell_type": "code",
   "execution_count": 28,
   "metadata": {},
   "outputs": [
    {
     "data": {
      "text/html": [
       "<div>\n",
       "<style scoped>\n",
       "    .dataframe tbody tr th:only-of-type {\n",
       "        vertical-align: middle;\n",
       "    }\n",
       "\n",
       "    .dataframe tbody tr th {\n",
       "        vertical-align: top;\n",
       "    }\n",
       "\n",
       "    .dataframe thead th {\n",
       "        text-align: right;\n",
       "    }\n",
       "</style>\n",
       "<table border=\"1\" class=\"dataframe\">\n",
       "  <thead>\n",
       "    <tr style=\"text-align: right;\">\n",
       "      <th></th>\n",
       "      <th>Unnamed: 0</th>\n",
       "      <th>Code</th>\n",
       "      <th>Groups</th>\n",
       "      <th>Description</th>\n",
       "    </tr>\n",
       "  </thead>\n",
       "  <tbody>\n",
       "    <tr>\n",
       "      <td>0</td>\n",
       "      <td>0</td>\n",
       "      <td>Code</td>\n",
       "      <td>Groups</td>\n",
       "      <td>Description</td>\n",
       "    </tr>\n",
       "    <tr>\n",
       "      <td>1</td>\n",
       "      <td>1</td>\n",
       "      <td>47</td>\n",
       "      <td>corp, fin</td>\n",
       "      <td>Accounting</td>\n",
       "    </tr>\n",
       "    <tr>\n",
       "      <td>2</td>\n",
       "      <td>2</td>\n",
       "      <td>94</td>\n",
       "      <td>man, tech, tran</td>\n",
       "      <td>Airlines/Aviation</td>\n",
       "    </tr>\n",
       "    <tr>\n",
       "      <td>3</td>\n",
       "      <td>3</td>\n",
       "      <td>120</td>\n",
       "      <td>leg, org</td>\n",
       "      <td>Alternative Dispute Resolution</td>\n",
       "    </tr>\n",
       "    <tr>\n",
       "      <td>4</td>\n",
       "      <td>4</td>\n",
       "      <td>125</td>\n",
       "      <td>hlth</td>\n",
       "      <td>Alternative Medicine</td>\n",
       "    </tr>\n",
       "  </tbody>\n",
       "</table>\n",
       "</div>"
      ],
      "text/plain": [
       "   Unnamed: 0  Code           Groups                     Description\n",
       "0           0  Code           Groups                     Description\n",
       "1           1    47        corp, fin                      Accounting\n",
       "2           2    94  man, tech, tran               Airlines/Aviation\n",
       "3           3   120         leg, org  Alternative Dispute Resolution\n",
       "4           4   125             hlth            Alternative Medicine"
      ]
     },
     "execution_count": 28,
     "metadata": {},
     "output_type": "execute_result"
    }
   ],
   "source": []
  },
  {
   "cell_type": "code",
   "execution_count": 26,
   "metadata": {},
   "outputs": [
    {
     "data": {
      "text/html": [
       "<div>\n",
       "<style scoped>\n",
       "    .dataframe tbody tr th:only-of-type {\n",
       "        vertical-align: middle;\n",
       "    }\n",
       "\n",
       "    .dataframe tbody tr th {\n",
       "        vertical-align: top;\n",
       "    }\n",
       "\n",
       "    .dataframe thead th {\n",
       "        text-align: right;\n",
       "    }\n",
       "</style>\n",
       "<table border=\"1\" class=\"dataframe\">\n",
       "  <thead>\n",
       "    <tr style=\"text-align: right;\">\n",
       "      <th></th>\n",
       "      <th>name</th>\n",
       "      <th>subdes</th>\n",
       "      <th>time_dis</th>\n",
       "      <th>corpus</th>\n",
       "      <th>reaction</th>\n",
       "      <th>comments</th>\n",
       "      <th>art_title</th>\n",
       "      <th>art_source</th>\n",
       "      <th>img</th>\n",
       "      <th>video</th>\n",
       "      <th>views</th>\n",
       "      <th>language</th>\n",
       "      <th>neg</th>\n",
       "      <th>neu</th>\n",
       "      <th>pos</th>\n",
       "      <th>compound</th>\n",
       "    </tr>\n",
       "  </thead>\n",
       "  <tbody>\n",
       "    <tr>\n",
       "      <td>0</td>\n",
       "      <td>John Fanning</td>\n",
       "      <td>Strategic Accounts Director at Ethisphere Inst...</td>\n",
       "      <td>22m</td>\n",
       "      <td>One more example of what is so great about wor...</td>\n",
       "      <td>0</td>\n",
       "      <td>0</td>\n",
       "      <td>Dell Technologies: Partnering with Ethisphere ...</td>\n",
       "      <td>magazine.ethisphere.com</td>\n",
       "      <td>0</td>\n",
       "      <td>None</td>\n",
       "      <td>None</td>\n",
       "      <td>en</td>\n",
       "      <td>0.000</td>\n",
       "      <td>0.591</td>\n",
       "      <td>0.409</td>\n",
       "      <td>0.9733</td>\n",
       "    </tr>\n",
       "    <tr>\n",
       "      <td>1</td>\n",
       "      <td>Tiger Buford</td>\n",
       "      <td>Retained Recruiter in the Orthopedics Industry...</td>\n",
       "      <td>18m</td>\n",
       "      <td>Dear Engineering Leaders… it’s time to mingle ...</td>\n",
       "      <td>0</td>\n",
       "      <td>0</td>\n",
       "      <td>If you want a BIG breakthrough… mingle differe...</td>\n",
       "      <td>tigerbuford.com</td>\n",
       "      <td>0</td>\n",
       "      <td>None</td>\n",
       "      <td>None</td>\n",
       "      <td>en</td>\n",
       "      <td>0.000</td>\n",
       "      <td>0.822</td>\n",
       "      <td>0.178</td>\n",
       "      <td>0.3818</td>\n",
       "    </tr>\n",
       "    <tr>\n",
       "      <td>2</td>\n",
       "      <td>Kaitlin Pugliese</td>\n",
       "      <td>Scientist 2 at Illumina</td>\n",
       "      <td>17m</td>\n",
       "      <td>Very proud to work for a top 50 Healthcare Tec...</td>\n",
       "      <td>1</td>\n",
       "      <td>0</td>\n",
       "      <td>Top 50 Healthcare Technology CEOs of 2019</td>\n",
       "      <td>thehealthcaretechnologyreport.com</td>\n",
       "      <td>0</td>\n",
       "      <td>None</td>\n",
       "      <td>None</td>\n",
       "      <td>en</td>\n",
       "      <td>0.033</td>\n",
       "      <td>0.803</td>\n",
       "      <td>0.164</td>\n",
       "      <td>0.8772</td>\n",
       "    </tr>\n",
       "    <tr>\n",
       "      <td>3</td>\n",
       "      <td>Rick Nalle</td>\n",
       "      <td>Strategic Operations / Account Management at B...</td>\n",
       "      <td>23m</td>\n",
       "      <td>The 2019 Gartner Information Security &amp; Risk M...</td>\n",
       "      <td>0</td>\n",
       "      <td>0</td>\n",
       "      <td>The 2019 Gartner Information Security &amp; Risk M...</td>\n",
       "      <td>bit.ly</td>\n",
       "      <td>0</td>\n",
       "      <td>None</td>\n",
       "      <td>None</td>\n",
       "      <td>en</td>\n",
       "      <td>0.141</td>\n",
       "      <td>0.606</td>\n",
       "      <td>0.252</td>\n",
       "      <td>0.5093</td>\n",
       "    </tr>\n",
       "    <tr>\n",
       "      <td>4</td>\n",
       "      <td>Joel Kohn</td>\n",
       "      <td>VP, Sales &amp; Marketing at Fidelis Sustainabilit...</td>\n",
       "      <td>9h</td>\n",
       "      <td>Exciting technology - now with 3D visualizatio...</td>\n",
       "      <td>1</td>\n",
       "      <td>0</td>\n",
       "      <td>Synaptive Medical Announces Product Update to ...</td>\n",
       "      <td>businesswire.com</td>\n",
       "      <td>0</td>\n",
       "      <td>None</td>\n",
       "      <td>None</td>\n",
       "      <td>en</td>\n",
       "      <td>0.000</td>\n",
       "      <td>0.788</td>\n",
       "      <td>0.212</td>\n",
       "      <td>0.5411</td>\n",
       "    </tr>\n",
       "  </tbody>\n",
       "</table>\n",
       "</div>"
      ],
      "text/plain": [
       "               name                                             subdes  \\\n",
       "0      John Fanning  Strategic Accounts Director at Ethisphere Inst...   \n",
       "1      Tiger Buford  Retained Recruiter in the Orthopedics Industry...   \n",
       "2  Kaitlin Pugliese                            Scientist 2 at Illumina   \n",
       "3        Rick Nalle  Strategic Operations / Account Management at B...   \n",
       "4         Joel Kohn  VP, Sales & Marketing at Fidelis Sustainabilit...   \n",
       "\n",
       "  time_dis                                             corpus reaction  \\\n",
       "0      22m  One more example of what is so great about wor...        0   \n",
       "1      18m  Dear Engineering Leaders… it’s time to mingle ...        0   \n",
       "2      17m  Very proud to work for a top 50 Healthcare Tec...        1   \n",
       "3      23m  The 2019 Gartner Information Security & Risk M...        0   \n",
       "4       9h  Exciting technology - now with 3D visualizatio...        1   \n",
       "\n",
       "  comments                                          art_title  \\\n",
       "0        0  Dell Technologies: Partnering with Ethisphere ...   \n",
       "1        0  If you want a BIG breakthrough… mingle differe...   \n",
       "2        0          Top 50 Healthcare Technology CEOs of 2019   \n",
       "3        0  The 2019 Gartner Information Security & Risk M...   \n",
       "4        0  Synaptive Medical Announces Product Update to ...   \n",
       "\n",
       "                          art_source img video views language    neg    neu  \\\n",
       "0            magazine.ethisphere.com   0  None  None       en  0.000  0.591   \n",
       "1                    tigerbuford.com   0  None  None       en  0.000  0.822   \n",
       "2  thehealthcaretechnologyreport.com   0  None  None       en  0.033  0.803   \n",
       "3                             bit.ly   0  None  None       en  0.141  0.606   \n",
       "4                   businesswire.com   0  None  None       en  0.000  0.788   \n",
       "\n",
       "     pos  compound  \n",
       "0  0.409    0.9733  \n",
       "1  0.178    0.3818  \n",
       "2  0.164    0.8772  \n",
       "3  0.252    0.5093  \n",
       "4  0.212    0.5411  "
      ]
     },
     "execution_count": 26,
     "metadata": {},
     "output_type": "execute_result"
    }
   ],
   "source": [
    "df.head()"
   ]
  },
  {
   "cell_type": "code",
   "execution_count": null,
   "metadata": {},
   "outputs": [],
   "source": [
    "# df.to_csv(\"banking.csv\", index=False)"
   ]
  },
  {
   "cell_type": "code",
   "execution_count": null,
   "metadata": {},
   "outputs": [],
   "source": [
    "df['img'].value_counts()"
   ]
  },
  {
   "cell_type": "code",
   "execution_count": null,
   "metadata": {},
   "outputs": [],
   "source": [
    "df.tail()"
   ]
  },
  {
   "cell_type": "code",
   "execution_count": null,
   "metadata": {},
   "outputs": [],
   "source": [
    "df.language.value_counts(sort = False).plot.pie()\n",
    "plot.show()"
   ]
  },
  {
   "cell_type": "code",
   "execution_count": null,
   "metadata": {},
   "outputs": [],
   "source": [
    "n_cor = df['reaction'][df['corpus'].apply(lambda x: x == None)].mean()\n",
    "cor = df['reaction'][df['corpus'].apply(lambda x: x != None)].mean()"
   ]
  },
  {
   "cell_type": "code",
   "execution_count": null,
   "metadata": {},
   "outputs": [],
   "source": [
    "plt.bar(['No Text','Text'],[n_cor, cor])"
   ]
  },
  {
   "cell_type": "code",
   "execution_count": null,
   "metadata": {},
   "outputs": [],
   "source": [
    "df.groupby([['corpus'].apply(lambda x: x == None)]).mean()"
   ]
  },
  {
   "cell_type": "code",
   "execution_count": null,
   "metadata": {},
   "outputs": [],
   "source": [
    "plt.scatter(df['pos'][df['corpus'].apply(lambda x: x != None)], df['reaction'][df['corpus'].apply(lambda x: x != None)])"
   ]
  },
  {
   "cell_type": "code",
   "execution_count": null,
   "metadata": {},
   "outputs": [],
   "source": [
    "df[['art_source', 'comments']].groupby('art_source').mean()"
   ]
  },
  {
   "cell_type": "code",
   "execution_count": null,
   "metadata": {},
   "outputs": [],
   "source": [
    "df[df['neu'].apply(lambda x: type(x) != float)]"
   ]
  },
  {
   "cell_type": "code",
   "execution_count": null,
   "metadata": {},
   "outputs": [],
   "source": []
  },
  {
   "cell_type": "code",
   "execution_count": null,
   "metadata": {},
   "outputs": [],
   "source": []
  },
  {
   "cell_type": "code",
   "execution_count": 29,
   "metadata": {},
   "outputs": [],
   "source": [
    "from sklearn.feature_extraction.text import TfidfVectorizer\n",
    "from sklearn.cluster import KMeans\n",
    "from sklearn.metrics import adjusted_rand_score\n",
    "from sklearn.decomposition import PCA\n",
    "from sklearn.manifold import TSNE\n",
    "import matplotlib.pyplot as plt\n"
   ]
  },
  {
   "cell_type": "code",
   "execution_count": 30,
   "metadata": {},
   "outputs": [],
   "source": [
    "vectorizer = TfidfVectorizer(stop_words='english')\n",
    "X = vectorizer.fit_transform(df['corpus'][df['language'] == 'en'])\n"
   ]
  },
  {
   "cell_type": "code",
   "execution_count": 31,
   "metadata": {},
   "outputs": [
    {
     "data": {
      "text/plain": [
       "<1x678 sparse matrix of type '<class 'numpy.float64'>'\n",
       "\twith 14 stored elements in Compressed Sparse Row format>"
      ]
     },
     "execution_count": 31,
     "metadata": {},
     "output_type": "execute_result"
    }
   ],
   "source": [
    "X[0]"
   ]
  },
  {
   "cell_type": "code",
   "execution_count": 32,
   "metadata": {},
   "outputs": [
    {
     "data": {
      "image/png": "[encoded data removed]",
      "text/plain": [
       "<Figure size 432x288 with 1 Axes>"
      ]
     },
     "metadata": {
      "needs_background": "light"
     },
     "output_type": "display_data"
    }
   ],
   "source": [
    "from sklearn.preprocessing import StandardScaler\n",
    "# Standardize the data to have a mean of ~0 and a variance of 1\n",
    "pca = PCA(n_components=20)\n",
    "principalComponents = pca.fit_transform(X.todense())# Plot the explained variances\n",
    "features = range(pca.n_components_)\n",
    "plt.bar(features, pca.explained_variance_ratio_, color='black')\n",
    "plt.xlabel('PCA features')\n",
    "plt.ylabel('variance %')\n",
    "plt.xticks(features)# Save components to a DataFrame\n",
    "PCA_components = pd.DataFrame(principalComponents)"
   ]
  },
  {
   "cell_type": "code",
   "execution_count": 33,
   "metadata": {},
   "outputs": [
    {
     "data": {
      "text/plain": [
       "Text(0, 0.5, 'PCA 2')"
      ]
     },
     "execution_count": 33,
     "metadata": {},
     "output_type": "execute_result"
    },
    {
     "data": {
      "image/png": "[encoded data removed]",
      "text/plain": [
       "<Figure size 432x288 with 1 Axes>"
      ]
     },
     "metadata": {
      "needs_background": "light"
     },
     "output_type": "display_data"
    }
   ],
   "source": [
    "plt.scatter(PCA_components[0], PCA_components[1], alpha=.1, color='black')\n",
    "plt.xlabel('PCA 1')\n",
    "plt.ylabel('PCA 2')"
   ]
  },
  {
   "cell_type": "code",
   "execution_count": 34,
   "metadata": {},
   "outputs": [],
   "source": [
    "num_clusters = 4\n",
    "num_seeds = 10\n",
    "max_iterations = 300\n",
    "labels_color_map = {\n",
    "    0: '#20b2aa', 1: '#ff7373', 2: '#ffe4e1', 3: '#005073', 4: '#4d0404',\n",
    "    5: '#ccc0ba', 6: '#4700f9', 7: '#f6f900', 8: '#00f91d', 9: '#da8c49'\n",
    "}\n",
    "pca_num_components = 2\n",
    "tsne_num_components = 2\n",
    "\n",
    "# texts_list = some array of strings for which TF-IDF is being computed\n",
    "\n",
    "# create k-means model with custom config\n",
    "clustering_model = KMeans(n_clusters=num_clusters)\n",
    "\n",
    "labels = clustering_model.fit_predict(X)"
   ]
  },
  {
   "cell_type": "code",
   "execution_count": 35,
   "metadata": {},
   "outputs": [
    {
     "data": {
      "image/png": "[encoded data removed]",
      "text/plain": [
       "<Figure size 432x288 with 1 Axes>"
      ]
     },
     "metadata": {
      "needs_background": "light"
     },
     "output_type": "display_data"
    },
    {
     "data": {
      "image/png": "[encoded data removed]",
      "text/plain": [
       "<Figure size 432x288 with 1 Axes>"
      ]
     },
     "metadata": {
      "needs_background": "light"
     },
     "output_type": "display_data"
    }
   ],
   "source": [
    "dense = X.todense()\n",
    "reduced_data = PCA(n_components=pca_num_components).fit_transform(dense)\n",
    "# print reduced_data\n",
    "\n",
    "fig, ax = plt.subplots()\n",
    "for index, instance in enumerate(reduced_data):\n",
    "    # print instance, index, labels[index]\n",
    "    pca_comp_1, pca_comp_2 = reduced_data[index]\n",
    "    color = labels_color_map[labels[index]]\n",
    "    ax.scatter(pca_comp_1, pca_comp_2, c=color)\n",
    "plt.show()\n",
    "\n",
    "\n",
    "\n",
    "# t-SNE plot\n",
    "embeddings = TSNE(n_components=tsne_num_components)\n",
    "Y = embeddings.fit_transform(dense)\n",
    "fig, ax = plt.subplots()\n",
    "for index, instance in enumerate(Y):\n",
    "    tsne_1, tsne_2 = Y[index]\n",
    "    color = labels_color_map[labels[index]]\n",
    "    ax.scatter(tsne_1, tsne_2, c=color)\n",
    "# plt.scatter(Y[:, 0], Y[:, 1], cmap=plt.cm.Spectral)\n",
    "plt.show()"
   ]
  },
  {
   "cell_type": "code",
   "execution_count": null,
   "metadata": {},
   "outputs": [],
   "source": []
  },
  {
   "cell_type": "code",
   "execution_count": null,
   "metadata": {},
   "outputs": [],
   "source": [
    "Sum_of_squared_distances = []\n",
    "K = range(1,25)\n",
    "for k in K:\n",
    "    km = KMeans(n_clusters=k)\n",
    "    km = km.fit(X)\n",
    "    Sum_of_squared_distances.append(km.inertia_)"
   ]
  },
  {
   "cell_type": "code",
   "execution_count": null,
   "metadata": {},
   "outputs": [],
   "source": [
    "plt.plot(K, Sum_of_squared_distances, 'bx-')\n",
    "plt.xlabel('k')\n",
    "plt.ylabel('Sum_of_squared_distances')\n",
    "plt.title('Elbow Method For Optimal k')\n",
    "plt.show()"
   ]
  },
  {
   "cell_type": "code",
   "execution_count": null,
   "metadata": {},
   "outputs": [],
   "source": [
    "print(\"Top terms per cluster:\")\n",
    "order_centroids = clustering_model.cluster_centers_.argsort()[:, ::-1]\n",
    "terms = vectorizer.get_feature_names()\n",
    "for i in K:\n",
    "    print(\"Cluster %d:\" % i),\n",
    "    for ind in order_centroids[i, :10]:\n",
    "        print(' %s' % terms[ind])"
   ]
  },
  {
   "cell_type": "code",
   "execution_count": null,
   "metadata": {},
   "outputs": [],
   "source": [
    "#This is how to predict what cluster a corpus would be in.\n",
    "Y = vectorizer.transform([\"Nicotine is very bad for your health just like vaping.\"])\n",
    "prediction = model.predict(Y)\n",
    "print(prediction)"
   ]
  },
  {
   "cell_type": "code",
   "execution_count": null,
   "metadata": {},
   "outputs": [],
   "source": [
    "print(model.cluster_centers_)"
   ]
  },
  {
   "cell_type": "code",
   "execution_count": null,
   "metadata": {},
   "outputs": [],
   "source": [
    "top_centroids = model.cluster_centers_.argsort()[:,-1:-11:-1]\n",
    "print(\"\\n3) top features (words) for each cluster:\")\n",
    "for num, centroid in enumerate(top_centroids):\n",
    "    print(\"%d: %s\" % (num, \", \".join(terms[i] for i in centroid)))"
   ]
  },
  {
   "cell_type": "code",
   "execution_count": null,
   "metadata": {},
   "outputs": [],
   "source": []
  }
 ],
 "metadata": {
  "kernelspec": {
   "display_name": "Python 3",
   "language": "python",
   "name": "python3"
  },
  "language_info": {
   "codemirror_mode": {
    "name": "ipython",
    "version": 3
   },
   "file_extension": ".py",
   "mimetype": "text/x-python",
   "name": "python",
   "nbconvert_exporter": "python",
   "pygments_lexer": "ipython3",
   "version": "3.7.4"
  }
 },
 "nbformat": 4,
 "nbformat_minor": 2
}
